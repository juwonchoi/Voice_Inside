{
 "cells": [
  {
   "cell_type": "code",
   "execution_count": 1,
   "metadata": {},
   "outputs": [
    {
     "name": "stderr",
     "output_type": "stream",
     "text": [
      "/Users/choejuwon/opt/anaconda3/lib/python3.7/site-packages/tensorflow/python/framework/dtypes.py:516: FutureWarning: Passing (type, 1) or '1type' as a synonym of type is deprecated; in a future version of numpy, it will be understood as (type, (1,)) / '(1,)type'.\n",
      "  _np_qint8 = np.dtype([(\"qint8\", np.int8, 1)])\n",
      "/Users/choejuwon/opt/anaconda3/lib/python3.7/site-packages/tensorflow/python/framework/dtypes.py:517: FutureWarning: Passing (type, 1) or '1type' as a synonym of type is deprecated; in a future version of numpy, it will be understood as (type, (1,)) / '(1,)type'.\n",
      "  _np_quint8 = np.dtype([(\"quint8\", np.uint8, 1)])\n",
      "/Users/choejuwon/opt/anaconda3/lib/python3.7/site-packages/tensorflow/python/framework/dtypes.py:518: FutureWarning: Passing (type, 1) or '1type' as a synonym of type is deprecated; in a future version of numpy, it will be understood as (type, (1,)) / '(1,)type'.\n",
      "  _np_qint16 = np.dtype([(\"qint16\", np.int16, 1)])\n",
      "/Users/choejuwon/opt/anaconda3/lib/python3.7/site-packages/tensorflow/python/framework/dtypes.py:519: FutureWarning: Passing (type, 1) or '1type' as a synonym of type is deprecated; in a future version of numpy, it will be understood as (type, (1,)) / '(1,)type'.\n",
      "  _np_quint16 = np.dtype([(\"quint16\", np.uint16, 1)])\n",
      "/Users/choejuwon/opt/anaconda3/lib/python3.7/site-packages/tensorflow/python/framework/dtypes.py:520: FutureWarning: Passing (type, 1) or '1type' as a synonym of type is deprecated; in a future version of numpy, it will be understood as (type, (1,)) / '(1,)type'.\n",
      "  _np_qint32 = np.dtype([(\"qint32\", np.int32, 1)])\n",
      "/Users/choejuwon/opt/anaconda3/lib/python3.7/site-packages/tensorflow/python/framework/dtypes.py:525: FutureWarning: Passing (type, 1) or '1type' as a synonym of type is deprecated; in a future version of numpy, it will be understood as (type, (1,)) / '(1,)type'.\n",
      "  np_resource = np.dtype([(\"resource\", np.ubyte, 1)])\n",
      "/Users/choejuwon/opt/anaconda3/lib/python3.7/site-packages/tensorboard/compat/tensorflow_stub/dtypes.py:541: FutureWarning: Passing (type, 1) or '1type' as a synonym of type is deprecated; in a future version of numpy, it will be understood as (type, (1,)) / '(1,)type'.\n",
      "  _np_qint8 = np.dtype([(\"qint8\", np.int8, 1)])\n",
      "/Users/choejuwon/opt/anaconda3/lib/python3.7/site-packages/tensorboard/compat/tensorflow_stub/dtypes.py:542: FutureWarning: Passing (type, 1) or '1type' as a synonym of type is deprecated; in a future version of numpy, it will be understood as (type, (1,)) / '(1,)type'.\n",
      "  _np_quint8 = np.dtype([(\"quint8\", np.uint8, 1)])\n",
      "/Users/choejuwon/opt/anaconda3/lib/python3.7/site-packages/tensorboard/compat/tensorflow_stub/dtypes.py:543: FutureWarning: Passing (type, 1) or '1type' as a synonym of type is deprecated; in a future version of numpy, it will be understood as (type, (1,)) / '(1,)type'.\n",
      "  _np_qint16 = np.dtype([(\"qint16\", np.int16, 1)])\n",
      "/Users/choejuwon/opt/anaconda3/lib/python3.7/site-packages/tensorboard/compat/tensorflow_stub/dtypes.py:544: FutureWarning: Passing (type, 1) or '1type' as a synonym of type is deprecated; in a future version of numpy, it will be understood as (type, (1,)) / '(1,)type'.\n",
      "  _np_quint16 = np.dtype([(\"quint16\", np.uint16, 1)])\n",
      "/Users/choejuwon/opt/anaconda3/lib/python3.7/site-packages/tensorboard/compat/tensorflow_stub/dtypes.py:545: FutureWarning: Passing (type, 1) or '1type' as a synonym of type is deprecated; in a future version of numpy, it will be understood as (type, (1,)) / '(1,)type'.\n",
      "  _np_qint32 = np.dtype([(\"qint32\", np.int32, 1)])\n",
      "/Users/choejuwon/opt/anaconda3/lib/python3.7/site-packages/tensorboard/compat/tensorflow_stub/dtypes.py:550: FutureWarning: Passing (type, 1) or '1type' as a synonym of type is deprecated; in a future version of numpy, it will be understood as (type, (1,)) / '(1,)type'.\n",
      "  np_resource = np.dtype([(\"resource\", np.ubyte, 1)])\n"
     ]
    }
   ],
   "source": [
    "import konlpy\n",
    "from konlpy.tag import Okt\n",
    "import json\n",
    "import os\n",
    "from pprint import pprint\n",
    "import nltk\n",
    "import numpy as np\n",
    "from tensorflow.keras import models\n",
    "from tensorflow.keras import layers\n",
    "from tensorflow.keras import optimizers\n",
    "from tensorflow.keras import losses\n",
    "from tensorflow.keras import metrics\n",
    "from tensorflow.keras.models import load_model\n",
    "import warnings\n",
    "warnings.filterwarnings(action='ignore')"
   ]
  },
  {
   "cell_type": "code",
   "execution_count": 2,
   "metadata": {
    "colab": {},
    "colab_type": "code",
    "id": "DdnNJI0C0L3E",
    "outputId": "c9ecd781-5adb-4f5b-df2b-84e04d4e4033"
   },
   "outputs": [
    {
     "name": "stdout",
     "output_type": "stream",
     "text": [
      "id\tdocument\tlabel\r\n",
      "9976970\t아 더빙.. 진짜 짜증나네요 목소리\t0\r\n",
      "3819312\t흠...포스터보고 초딩영화줄....오버연기조차 가볍지 않구나\t1\r\n",
      "10265843\t너무재밓었다그래서보는것을추천한다\t0\r\n",
      "9045019\t교도소 이야기구먼 ..솔직히 재미는 없다..평점 조정\t0\r\n",
      "6483659\t사이몬페그의 익살스런 연기가 돋보였던 영화!스파이더맨에서 늙어보이기만 했던 커스틴 던스트가 너무나도 이뻐보였다\t1\r\n",
      "5403919\t막 걸음마 뗀 3세부터 초등학교 1학년생인 8살용영화.ㅋㅋㅋ...별반개도 아까움.\t0\r\n",
      "7797314\t원작의 긴장감을 제대로 살려내지못했다.\t0\r\n",
      "9443947\t별 반개도 아깝다 욕나온다 이응경 길용우 연기생활이몇년인지..정말 발로해도 그것보단 낫겟다 납치.감금만반복반복..이드라마는 가족도없다 연기못하는사람만모엿네\t0\r\n",
      "7156791\t액션이 없는데도 재미 있는 몇안되는 영화\t1\r\n",
      "cat: stdout: Broken pipe\r\n"
     ]
    }
   ],
   "source": [
    "cat /Users/choejuwon/Desktop/voice_inside/nsmc-master/ratings_train.txt | head -n 10"
   ]
  },
  {
   "cell_type": "code",
   "execution_count": 3,
   "metadata": {
    "colab": {},
    "colab_type": "code",
    "id": "fDsU36Ve0L3S"
   },
   "outputs": [],
   "source": [
    "def read_data(filename):\n",
    "    with open(filename, 'r') as f:\n",
    "        data = [line.split('\\t') for line in f.read().splitlines()]\n",
    "        # txt 파일의 헤더(id document label)는 제외하기\n",
    "        data = data[1:]\n",
    "    return data\n",
    "\n",
    "def tokenize(doc):\n",
    "    # norm은 정규화, stem은 근어로 표시하기를 나타냄\n",
    "    return ['/'.join(t) for t in okt.pos(doc, norm=True, stem=True)]\n",
    "\n",
    "if os.path.isfile('/Users/choejuwon/Desktop/voice_inside/nsmc-master/datasets/ncms/train_docs.json'):\n",
    "    with open('/Users/choejuwon/Desktop/voice_inside/nsmc-master/datasets/ncms/train_docs.json') as f:\n",
    "        train_docs = json.load(f)\n",
    "    with open('/Users/choejuwon/Desktop/voice_inside/nsmc-master/datasets/ncms/test_docs.json') as f:\n",
    "        test_docs = json.load(f)\n",
    "else:\n",
    "    train_docs = [(tokenize(row[1]), row[2]) for row in train_data]\n",
    "    test_docs = [(tokenize(row[1]), row[2]) for row in test_data]\n",
    "    # JSON 파일로 저장\n",
    "    with open('/Users/choejuwon/Desktop/voice_inside/nsmc-master/datasets/ncms/train_docs.json', 'w', encoding=\"utf-8\") as make_file:\n",
    "        json.dump(train_docs, make_file, ensure_ascii=False, indent=\"\\t\")\n",
    "    with open('/Users/choejuwon/Desktop/voice_inside/nsmc-master/datasets/ncms/test_docs.json', 'w', encoding=\"utf-8\") as make_file:\n",
    "        json.dump(test_docs, make_file, ensure_ascii=False, indent=\"\\t\")\n",
    "        \n",
    "# 각 단어의 갯수를 넣어주면서 one-hot은 아니지만 zero가 거의 대부분인 vector를 만들어주고 있다.\n",
    "def term_frequency(doc):\n",
    "    return [doc.count(word) for word in selected_words]\n",
    "\n",
    "def predict_pos_neg(review):\n",
    "    token = tokenize(review)\n",
    "    tf = term_frequency(token)\n",
    "    data = np.expand_dims(np.asarray(tf).astype('float32'), axis=0)\n",
    "    score = float(model.predict(data))\n",
    "    if(score > 0.7):\n",
    "        print(\"[{}]는 {:.2f}% 확률로 < 긍정적 > 입니다 ^^\".format(review, score * 100))\n",
    "    elif (score < 0.4) :\n",
    "        print(\"[{}]는 {:.2f}% 확률로 < 부정적 > 입니다 ㅠㅠ\".format(review, (1 - score) * 100))\n",
    "    else:\n",
    "        print(\"[{}]는 {:.2f}% 확률로 < 중립 > 입니다.\".format(review, (1 - score) * 100))\n",
    "        \n",
    "okt = Okt()"
   ]
  },
  {
   "cell_type": "code",
   "execution_count": 4,
   "metadata": {},
   "outputs": [],
   "source": [
    "train_data = read_data('/Users/choejuwon/Desktop/voice_inside/nsmc-master/ratings_train.txt')\n",
    "test_data = read_data('/Users/choejuwon/Desktop/voice_inside/nsmc-master/ratings_test.txt')"
   ]
  },
  {
   "cell_type": "code",
   "execution_count": 5,
   "metadata": {
    "colab": {},
    "colab_type": "code",
    "id": "5aLmu40J0L3f",
    "outputId": "d5f1c8da-a03e-4fd3-c1fd-eebc9d930cee"
   },
   "outputs": [
    {
     "name": "stdout",
     "output_type": "stream",
     "text": [
      "150000\n",
      "3\n",
      "50000\n",
      "3\n"
     ]
    }
   ],
   "source": [
    "print(len(train_data))\n",
    "print(len(train_data[0]))\n",
    "print(len(test_data))\n",
    "print(len(test_data[0]))"
   ]
  },
  {
   "cell_type": "code",
   "execution_count": 6,
   "metadata": {
    "colab": {},
    "colab_type": "code",
    "id": "XC021KUk0L3s",
    "outputId": "7cc544af-3ce2-42c9-fc48-2fa2cdf8b354"
   },
   "outputs": [
    {
     "data": {
      "text/plain": [
       "[['9976970', '아 더빙.. 진짜 짜증나네요 목소리', '0'],\n",
       " ['3819312', '흠...포스터보고 초딩영화줄....오버연기조차 가볍지 않구나', '1'],\n",
       " ['10265843', '너무재밓었다그래서보는것을추천한다', '0'],\n",
       " ['9045019', '교도소 이야기구먼 ..솔직히 재미는 없다..평점 조정', '0'],\n",
       " ['6483659',\n",
       "  '사이몬페그의 익살스런 연기가 돋보였던 영화!스파이더맨에서 늙어보이기만 했던 커스틴 던스트가 너무나도 이뻐보였다',\n",
       "  '1'],\n",
       " ['5403919', '막 걸음마 뗀 3세부터 초등학교 1학년생인 8살용영화.ㅋㅋㅋ...별반개도 아까움.', '0'],\n",
       " ['7797314', '원작의 긴장감을 제대로 살려내지못했다.', '0'],\n",
       " ['9443947',\n",
       "  '별 반개도 아깝다 욕나온다 이응경 길용우 연기생활이몇년인지..정말 발로해도 그것보단 낫겟다 납치.감금만반복반복..이드라마는 가족도없다 연기못하는사람만모엿네',\n",
       "  '0'],\n",
       " ['7156791', '액션이 없는데도 재미 있는 몇안되는 영화', '1'],\n",
       " ['5912145', '왜케 평점이 낮은건데? 꽤 볼만한데.. 헐리우드식 화려함에만 너무 길들여져 있나?', '1']]"
      ]
     },
     "execution_count": 6,
     "metadata": {},
     "output_type": "execute_result"
    }
   ],
   "source": [
    "train_data[:10]"
   ]
  },
  {
   "cell_type": "code",
   "execution_count": 7,
   "metadata": {
    "colab": {},
    "colab_type": "code",
    "id": "sr5sD8Fm0L4Y",
    "outputId": "29613fb1-368a-418d-ba3c-766fde787d0e"
   },
   "outputs": [
    {
     "name": "stdout",
     "output_type": "stream",
     "text": [
      "2159921\n"
     ]
    }
   ],
   "source": [
    "# 모든 sentence의 token들을 모아 놓은 것\n",
    "tokens = [t for d in train_docs for t in d[0]]\n",
    "print(len(tokens))"
   ]
  },
  {
   "cell_type": "code",
   "execution_count": 8,
   "metadata": {
    "colab": {},
    "colab_type": "code",
    "id": "UUD2o1xm0L4r",
    "outputId": "0df0153b-4549-429b-bdfd-397cfb94ac31"
   },
   "outputs": [
    {
     "name": "stdout",
     "output_type": "stream",
     "text": [
      "<Text: NMSC>\n"
     ]
    }
   ],
   "source": [
    "text = nltk.Text(tokens, name='NMSC')\n",
    "print(text)"
   ]
  },
  {
   "cell_type": "code",
   "execution_count": 9,
   "metadata": {
    "colab": {},
    "colab_type": "code",
    "id": "VDV6PbkQ0L4x",
    "outputId": "b580fd7e-32e6-40a7-f978-2e3287d4be63"
   },
   "outputs": [
    {
     "name": "stdout",
     "output_type": "stream",
     "text": [
      "2159921\n",
      "49895\n",
      "[('./Punctuation', 67778),\n",
      " ('영화/Noun', 50818),\n",
      " ('하다/Verb', 41209),\n",
      " ('이/Josa', 38540),\n",
      " ('보다/Verb', 38538),\n",
      " ('의/Josa', 30188),\n",
      " ('../Punctuation', 29055),\n",
      " ('가/Josa', 26627),\n",
      " ('에/Josa', 26468),\n",
      " ('을/Josa', 23118)]\n"
     ]
    }
   ],
   "source": [
    "# 전체 토큰의 개수\n",
    "print(len(text.tokens))\n",
    "\n",
    "# 중복을 제외한 토큰의 개수\n",
    "print(len(set(text.tokens)))            \n",
    "\n",
    "# 출현 빈도가 높은 상위 토큰 10개\n",
    "pprint(text.vocab().most_common(10))"
   ]
  },
  {
   "cell_type": "code",
   "execution_count": 10,
   "metadata": {
    "colab": {},
    "colab_type": "code",
    "id": "C-2h5Mv40L5I"
   },
   "outputs": [],
   "source": [
    "# 시간 오래 걸림 주의!\n",
    "# 가장 많이 나오는 상위 2000개의 데이터 선택\n",
    "selected_words = [f[0] for f in text.vocab().most_common(2000)]\n",
    "##### ==>>>>>> selected_words list를 저장해놓고 불러오면 될 듯!\n",
    "\n",
    "# docs에 [[copus], label] 이런식으로 들어가 있음\n",
    "train_x = [term_frequency(d) for d, _ in train_docs]\n",
    "test_x = [term_frequency(d) for d, _ in test_docs]\n",
    "train_y = [c for _, c in train_docs]\n",
    "test_y = [c for _, c in test_docs]"
   ]
  },
  {
   "cell_type": "code",
   "execution_count": 11,
   "metadata": {
    "colab": {},
    "colab_type": "code",
    "id": "9W_IahdV0L5q"
   },
   "outputs": [],
   "source": [
    "x_train = np.asarray(train_x).astype('float32')\n",
    "x_test = np.asarray(test_x).astype('float32')\n",
    "\n",
    "y_train = np.asarray(train_y).astype('float32')\n",
    "y_test = np.asarray(test_y).astype('float32')"
   ]
  },
  {
   "cell_type": "code",
   "execution_count": 12,
   "metadata": {
    "colab": {},
    "colab_type": "code",
    "id": "1xZ0TJ_C0L51",
    "outputId": "1b4d11b2-6865-49c2-b78f-58e87448b85a"
   },
   "outputs": [
    {
     "name": "stdout",
     "output_type": "stream",
     "text": [
      "WARNING:tensorflow:From /Users/choejuwon/opt/anaconda3/lib/python3.7/site-packages/tensorflow/python/ops/init_ops.py:1251: calling VarianceScaling.__init__ (from tensorflow.python.ops.init_ops) with dtype is deprecated and will be removed in a future version.\n",
      "Instructions for updating:\n",
      "Call initializer instance with the dtype argument instead of passing it to the constructor\n",
      "WARNING:tensorflow:From /Users/choejuwon/opt/anaconda3/lib/python3.7/site-packages/tensorflow/python/ops/nn_impl.py:180: add_dispatch_support.<locals>.wrapper (from tensorflow.python.ops.array_ops) is deprecated and will be removed in a future version.\n",
      "Instructions for updating:\n",
      "Use tf.where in 2.0, which has the same broadcast rule as np.where\n",
      "Epoch 1/10\n",
      "150000/150000 [==============================] - 6s 38us/sample - loss: 0.4112 - binary_accuracy: 0.8186\n",
      "Epoch 2/10\n",
      "150000/150000 [==============================] - 4s 26us/sample - loss: 0.3545 - binary_accuracy: 0.8408\n",
      "Epoch 3/10\n",
      "150000/150000 [==============================] - 4s 25us/sample - loss: 0.3362 - binary_accuracy: 0.8510\n",
      "Epoch 4/10\n",
      "150000/150000 [==============================] - 4s 25us/sample - loss: 0.3215 - binary_accuracy: 0.8603\n",
      "Epoch 5/10\n",
      "150000/150000 [==============================] - 4s 25us/sample - loss: 0.3078 - binary_accuracy: 0.8687\n",
      "Epoch 6/10\n",
      "150000/150000 [==============================] - 4s 25us/sample - loss: 0.2944 - binary_accuracy: 0.8756\n",
      "Epoch 7/10\n",
      "150000/150000 [==============================] - 4s 26us/sample - loss: 0.2810 - binary_accuracy: 0.8829\n",
      "Epoch 8/10\n",
      "150000/150000 [==============================] - 4s 26us/sample - loss: 0.2675 - binary_accuracy: 0.8892\n",
      "Epoch 9/10\n",
      "150000/150000 [==============================] - 5s 30us/sample - loss: 0.2551 - binary_accuracy: 0.8944\n",
      "Epoch 10/10\n",
      "150000/150000 [==============================] - 5s 32us/sample - loss: 0.2434 - binary_accuracy: 0.9005\n",
      "50000/50000 [==============================] - 3s 64us/sample - loss: 0.3910 - binary_accuracy: 0.8410\n"
     ]
    }
   ],
   "source": [
    "# 모델 만들기\n",
    "model = models.Sequential()\n",
    "model.add(layers.Dense(64, activation='relu', input_shape=(2000,)))\n",
    "model.add(layers.Dense(64, activation='relu'))\n",
    "model.add(layers.Dense(1, activation='sigmoid'))\n",
    "\n",
    "model.compile(optimizer=optimizers.RMSprop(lr=0.001),\n",
    "             loss=losses.binary_crossentropy,\n",
    "             metrics=[metrics.binary_accuracy])\n",
    "\n",
    "model.fit(x_train, y_train, epochs=10, batch_size=512)\n",
    "results = model.evaluate(x_test, y_test)\n",
    "\n",
    "# 만들어진 모델 저장\n",
    "model.save('/Users/choejuwon/Desktop/voice_inside/model/model_2000.h5')"
   ]
  },
  {
   "cell_type": "code",
   "execution_count": 13,
   "metadata": {
    "colab": {},
    "colab_type": "code",
    "id": "4yJB_3Sj0L6Y",
    "outputId": "5d9367e0-4096-4586-fe78-ff48c8092126"
   },
   "outputs": [
    {
     "name": "stdout",
     "output_type": "stream",
     "text": [
      "[올해 최고의 영화! 세 번 넘게 봐도 질리지가 않네요.]는 99.44% 확률로 < 긍정적 > 입니다 ^^\n",
      "[배경 음악이 영화의 분위기랑 너무 안 맞았습니다. 몰입에 방해가 됩니다.]는 80.10% 확률로 < 부정적 > 입니다 ㅠㅠ\n",
      "[주연 배우가 신인인데 연기를 진짜 잘 하네요. 몰입감 ㅎㄷㄷ]는 93.90% 확률로 < 긍정적 > 입니다 ^^\n",
      "[믿고 보는 감독이지만 이번에는 아니네요]는 73.86% 확률로 < 부정적 > 입니다 ㅠㅠ\n",
      "[주연배우 때문에 봤어요]는 73.55% 확률로 < 부정적 > 입니다 ㅠㅠ\n",
      "[오늘 뭐먹지?]는 94.76% 확률로 < 부정적 > 입니다 ㅠㅠ\n"
     ]
    }
   ],
   "source": [
    "predict_pos_neg(\"올해 최고의 영화! 세 번 넘게 봐도 질리지가 않네요.\")\n",
    "predict_pos_neg(\"배경 음악이 영화의 분위기랑 너무 안 맞았습니다. 몰입에 방해가 됩니다.\")\n",
    "predict_pos_neg(\"주연 배우가 신인인데 연기를 진짜 잘 하네요. 몰입감 ㅎㄷㄷ\")\n",
    "predict_pos_neg(\"믿고 보는 감독이지만 이번에는 아니네요\")\n",
    "predict_pos_neg(\"주연배우 때문에 봤어요\")\n",
    "predict_pos_neg(\"오늘 뭐먹지?\")"
   ]
  },
  {
   "cell_type": "code",
   "execution_count": 14,
   "metadata": {
    "colab": {},
    "colab_type": "code",
    "id": "tQKfWcuR0L6k",
    "outputId": "8e3e6dfd-1f30-4ae1-de66-bbe53971a9f6"
   },
   "outputs": [
    {
     "name": "stdout",
     "output_type": "stream",
     "text": [
      "[오늘 날씨가 왜이래]는 46.91% 확률로 < 중립 > 입니다.\n",
      "[오늘 공원으로 가자]는 40.54% 확률로 < 중립 > 입니다.\n",
      "[기분이 너무 좋아]는 90.61% 확률로 < 긍정적 > 입니다 ^^\n",
      "[안녕하세요]는 47.13% 확률로 < 중립 > 입니다.\n",
      "[이건뭐]는 94.80% 확률로 < 부정적 > 입니다 ㅠㅠ\n",
      "[너무 우울해]는 77.50% 확률로 < 부정적 > 입니다 ㅠㅠ\n",
      "[반갑습니다]는 47.13% 확률로 < 중립 > 입니다.\n"
     ]
    }
   ],
   "source": [
    "predict_pos_neg(\"오늘 날씨가 왜이래\")\n",
    "predict_pos_neg(\"오늘 공원으로 가자\")\n",
    "predict_pos_neg(\"기분이 너무 좋아\")\n",
    "predict_pos_neg(\"안녕하세요\")\n",
    "predict_pos_neg(\"이건뭐\")\n",
    "predict_pos_neg(\"너무 우울해\")\n",
    "predict_pos_neg(\"반갑습니다\")"
   ]
  }
 ],
 "metadata": {
  "colab": {
   "name": "emo_class_training.ipynb",
   "provenance": []
  },
  "kernelspec": {
   "display_name": "Python 3",
   "language": "python",
   "name": "python3"
  },
  "language_info": {
   "codemirror_mode": {
    "name": "ipython",
    "version": 3
   },
   "file_extension": ".py",
   "mimetype": "text/x-python",
   "name": "python",
   "nbconvert_exporter": "python",
   "pygments_lexer": "ipython3",
   "version": "3.7.4"
  }
 },
 "nbformat": 4,
 "nbformat_minor": 1
}
